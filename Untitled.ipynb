{
 "cells": [
  {
   "cell_type": "code",
   "execution_count": 87,
   "metadata": {},
   "outputs": [
    {
     "data": {
      "text/plain": [
       "9"
      ]
     },
     "execution_count": 87,
     "metadata": {},
     "output_type": "execute_result"
    }
   ],
   "source": [
    "# Return the number (count) of vowels in the given string.\n",
    "\n",
    "# We will consider a, e, i, o, and u as vowels for this Kata.\n",
    "\n",
    "# The input string will only consist of lower case letters and/or spaces."
   ]
  },
  {
   "cell_type": "code",
   "execution_count": 41,
   "metadata": {},
   "outputs": [
    {
     "data": {
      "text/plain": [
       "[('I', 'had a nice day'),\n",
       " ('I had', 'a nice day'),\n",
       " ('I had a', 'nice day'),\n",
       " ('I had a nice', 'day')]"
      ]
     },
     "execution_count": 41,
     "metadata": {},
     "output_type": "execute_result"
    }
   ],
   "source": [
    "def partlist(arr):\n",
    "    return [(' '.join(arr[:i]), ' '.join(arr[i:])) for i in range(1, len(arr))]  \n",
    "\n",
    "partlist([\"I\", 'had', 'a', 'nice', 'day'])"
   ]
  },
  {
   "cell_type": "code",
   "execution_count": 42,
   "metadata": {},
   "outputs": [
    {
     "data": {
      "text/plain": [
       "[('I', 'had a nice day'),\n",
       " ('I had', 'a nice day'),\n",
       " ('I had a', 'nice day'),\n",
       " ('I had a nice', 'day')]"
      ]
     },
     "execution_count": 42,
     "metadata": {},
     "output_type": "execute_result"
    }
   ],
   "source": [
    "def partlist(arr):\n",
    "    new_arr = []\n",
    "    for x in range(1,len(arr)):\n",
    "        y = ' '.join(arr[:x])\n",
    "        z = ' '.join(arr[x:])\n",
    "        new_arr.append((y,z))\n",
    "    return new_arr\n",
    "\n",
    "partlist ([\"I\", 'had', 'a', 'nice', 'day'])"
   ]
  },
  {
   "cell_type": "code",
   "execution_count": null,
   "metadata": {},
   "outputs": [],
   "source": []
  }
 ],
 "metadata": {
  "kernelspec": {
   "display_name": "Python 3",
   "language": "python",
   "name": "python3"
  },
  "language_info": {
   "codemirror_mode": {
    "name": "ipython",
    "version": 3
   },
   "file_extension": ".py",
   "mimetype": "text/x-python",
   "name": "python",
   "nbconvert_exporter": "python",
   "pygments_lexer": "ipython3",
   "version": "3.7.1"
  }
 },
 "nbformat": 4,
 "nbformat_minor": 2
}
