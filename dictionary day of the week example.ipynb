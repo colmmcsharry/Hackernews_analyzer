{
 "cells": [
  {
   "cell_type": "code",
   "execution_count": 4,
   "metadata": {},
   "outputs": [
    {
     "data": {
      "text/plain": [
       "'error, needs to be between 1 - 7'"
      ]
     },
     "execution_count": 4,
     "metadata": {},
     "output_type": "execute_result"
    }
   ],
   "source": [
    "weekdays = {\n",
    "1 : \"Sunday\",\n",
    "2 : 'Monday',\n",
    "3 : \"Tuesday\",\n",
    "4 : \"Wednesday\",\n",
    "5 : \"Thursday\",\n",
    "6 : \"Friday\",\n",
    "7 : \"Saturday\",\n",
    "}\n",
    "\n",
    "def day(oneto7):\n",
    "    return weekdays.get(oneto7, \"error, needs to be between 1 - 7\") #this makes sense because .get is used on dicts. the second argument returns if the first one isn't valid.\n",
    "\n",
    "day(9)"
   ]
  },
  {
   "cell_type": "code",
   "execution_count": null,
   "metadata": {},
   "outputs": [],
   "source": []
  }
 ],
 "metadata": {
  "kernelspec": {
   "display_name": "Python 3",
   "language": "python",
   "name": "python3"
  },
  "language_info": {
   "codemirror_mode": {
    "name": "ipython",
    "version": 3
   },
   "file_extension": ".py",
   "mimetype": "text/x-python",
   "name": "python",
   "nbconvert_exporter": "python",
   "pygments_lexer": "ipython3",
   "version": "3.7.1"
  }
 },
 "nbformat": 4,
 "nbformat_minor": 2
}
